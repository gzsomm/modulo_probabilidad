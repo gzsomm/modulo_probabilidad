{
 "cells": [
  {
   "cell_type": "markdown",
   "id": "a41f3622",
   "metadata": {},
   "source": [
    "# Ejercicios de probabilidad"
   ]
  },
  {
   "cell_type": "markdown",
   "id": "a6bdbd89",
   "metadata": {},
   "source": [
    "## Ejercicio 1 \n",
    "\n",
    "Dos dados se lanzan una vez y se observa el total obtenido. Usa una simulación para encontrar la probabilidad estimada de que la puntuación sea mayor a 7 o un número par. Una simulación es una repetición del mismo experimento multiples veces para observar su comportamiento:\n",
    "\n",
    "- Ejecuta el experimento 1000 veces (lanza 2 dados 1000 veces, y suma el número de ambos dados).\n",
    "- Lleva ua cuenta de los números y las veces que la suma fue mayor a 7 o un número par.\n",
    "- Divide el número del paso 2 entre el número de iteraciones(1000)."
   ]
  },
  {
   "cell_type": "code",
   "execution_count": 1,
   "id": "8939d892",
   "metadata": {},
   "outputs": [],
   "source": [
    "# \n",
    "import pandas as pd\n",
    "import numpy as np\n",
    "import random\n",
    "\n",
    "n = 1000\n",
    "contador = 0\n",
    "\n",
    "for i in range (n):\n",
    "    dad1 = random.randint (1,6)\n",
    "    dad2 = random.randint (1,6)\n",
    "    suma = dad1 + dad2\n",
    "    if (suma >= 7) or (suma % 2 == 0):\n",
    "        contador +=1\n",
    "    \n",
    "    resultado = contador / n\n",
    "\n",
    "\n",
    "print (resultado)"
   ]
  },
  {
   "cell_type": "markdown",
   "id": "55732bca",
   "metadata": {},
   "source": [
    "## Ejercicio 2\n",
    "\n",
    "Una caja contiene 10 bolas blancas, 20 bolas rojas y 30 bolas verdes. Si tomamos 5 bolas de la caja reemplazándolas (tomando una bola, anotando el color y luego regresandola a la caja). Queremos saber la probabilidad de:\n",
    "\n",
    "1. Tomar 3 blancas y 2 rojas.\n",
    "2. Toas todas del mismo color.\n",
    "\n",
    "Ejecuta el experimento 1000 veces y calcula las probabilidades que mencionadas."
   ]
  },
  {
   "cell_type": "code",
   "execution_count": null,
   "id": "23244d20",
   "metadata": {},
   "outputs": [
    {
     "ename": "",
     "evalue": "",
     "output_type": "error",
     "traceback": [
      "\u001b[1;31mRunning cells with 'c:\\Program Files\\Python312\\python.exe' requires the ipykernel package.\n",
      "\u001b[1;31mRun the following command to install 'ipykernel' into the Python environment. \n",
      "\u001b[1;31mCommand: '\"c:/Program Files/Python312/python.exe\" -m pip install ipykernel -U --user --force-reinstall'"
     ]
    }
   ],
   "source": [
    "ball_box = {\n",
    "}\n",
    "\n",
    "# Create the box of balls\n",
    "for i in range(60):\n",
    "    if i < 10:\n",
    "        ball_box[i] = \"White\"\n",
    "    elif (i > 9) and (i < 30):\n",
    "        ball_box[i] = \"Red\"\n",
    "    else:\n",
    "        ball_box[i] = \"Green\"\n",
    "\n",
    "\n",
    "def take_balls (n):\n",
    "    contador_1 = 0\n",
    "    contador_2 = 0\n",
    "    \n",
    "    for i in range (n):\n",
    "        colores = []\n",
    "\n",
    "        for i in range (5):\n",
    "           colores.append (ball_box[np.random.randint (0,59)])\n",
    "\n",
    "        colores = np.array(colores)\n",
    "\n",
    "        bwhite = sum (colores == 'White')\n",
    "        bred = sum (colores == 'Red')\n",
    "        bgreen = sum (colores == 'Green')\n",
    "\n",
    "        if (bwhite == 3) and (bred == 2):\n",
    "            contador_1 += 1\n",
    "        if (bwhite == 5) or (bred == 5) or (bgreen == 5):\n",
    "            contador_2 += 1\n",
    "\n",
    "    return contador_1/n, contador_2/n\n",
    "\n",
    "probabilidad = take_balls (1000)\n",
    "\n",
    "print (f'La probabilidad de sacar 3 rojas y 2 verdes es de {np.round(probabilidad[0]*100,2)}%')\n",
    "print (f'La probabilidad de sacar 5 de igual color es de {np.round(probabilidad[1]*100,2)}%')"
   ]
  }
 ],
 "metadata": {
  "interpreter": {
   "hash": "9248718ffe6ce6938b217e69dbcc175ea21f4c6b28a317e96c05334edae734bb"
  },
  "kernelspec": {
   "display_name": "Python 3.9.12 ('ML-BOOTCAMP')",
   "language": "python",
   "name": "python3"
  },
  "language_info": {
   "codemirror_mode": {
    "name": "ipython",
    "version": 3
   },
   "file_extension": ".py",
   "mimetype": "text/x-python",
   "name": "python",
   "nbconvert_exporter": "python",
   "pygments_lexer": "ipython3",
   "version": "3.12.1"
  }
 },
 "nbformat": 4,
 "nbformat_minor": 5
}
