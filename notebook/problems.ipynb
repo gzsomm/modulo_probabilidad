{
 "cells": [
  {
   "cell_type": "markdown",
   "id": "a41f3622",
   "metadata": {},
   "source": [
    "# Probability exercises"
   ]
  },
  {
   "cell_type": "markdown",
   "id": "a6bdbd89",
   "metadata": {},
   "source": [
    "## Exercise 1 \n",
    "\n",
    "Two dices are thrown once and the total score is observed. Use a simulation to find the estimated probability that the total score is even or greater than 7.  A simulation is a repetition of the same experiment multiple times to observe its behavior:\n",
    "\n",
    "- Run the experiment 1000 times (roll 2 dice 1000 times, and sum the number of both dices).\n",
    "- Keep track of the number of times that the sum was either greater than 7 or an even number.\n",
    "- Divide the number from step 2 by the number of iterations (1000)."
   ]
  },
  {
   "cell_type": "code",
   "execution_count": 2,
   "id": "8939d892",
   "metadata": {},
   "outputs": [
    {
     "name": "stdout",
     "output_type": "stream",
     "text": [
      "0.836\n"
     ]
    }
   ],
   "source": [
    "# \n",
    "import pandas as pd\n",
    "import numpy as np\n",
    "import random\n",
    "\n",
    "n = 1000\n",
    "contador = 0\n",
    "\n",
    "for i in range (n):\n",
    "    dad1 = random.randint (1,6)\n",
    "    dad2 = random.randint (1,6)\n",
    "    suma = dad1 + dad2\n",
    "    if (suma >= 7) or (suma % 2 == 0):\n",
    "        contador +=1\n",
    "    \n",
    "    resultado = contador / n\n",
    "\n",
    "\n",
    "print (resultado)\n"
   ]
  },
  {
   "cell_type": "markdown",
   "id": "55732bca",
   "metadata": {},
   "source": [
    "## Exercise 2\n",
    "\n",
    "A box contains 10 white balls, 20 red balls and 30 green balls. If we take 5 balls from the box with replacement (we take the ball, observe what color it is and put it back into the box). We want to know the probability of:\n",
    "\n",
    "1. Take 3 white and 2 red.\n",
    "2. Take all of the same color.\n",
    "\n",
    "Run the experiment 1000 times and calculate the above probabilities."
   ]
  },
  {
   "cell_type": "code",
   "execution_count": 3,
   "id": "23244d20",
   "metadata": {},
   "outputs": [
    {
     "name": "stdout",
     "output_type": "stream",
     "text": [
      "La probabilidad de sacar 3 rojas y 2 verdes es de 0.5%\n",
      "La probabilidad de sacar 5 de igual color es de 3.2%\n"
     ]
    }
   ],
   "source": [
    "ball_box = {\n",
    "}\n",
    "\n",
    "# Create the box of balls\n",
    "for i in range(60):\n",
    "    if i < 10:\n",
    "        ball_box[i] = \"White\"\n",
    "    elif (i > 9) and (i < 30):\n",
    "        ball_box[i] = \"Red\"\n",
    "    else:\n",
    "        ball_box[i] = \"Green\"\n",
    "\n",
    "\n",
    "def take_balls (n):\n",
    "    contador_1 = 0\n",
    "    contador_2 = 0\n",
    "    \n",
    "    for i in range (n):\n",
    "        colores = []\n",
    "\n",
    "        for i in range (5):\n",
    "           colores.append (ball_box[np.random.randint (0,59)])\n",
    "\n",
    "        colores = np.array(colores)\n",
    "\n",
    "        bwhite = sum (colores == 'White')\n",
    "        bred = sum (colores == 'Red')\n",
    "        bgreen = sum (colores == 'Green')\n",
    "\n",
    "        if (bwhite == 3) and (bred == 2):\n",
    "            contador_1 += 1\n",
    "        if (bwhite == 5) or (bred == 5) or (bgreen == 5):\n",
    "            contador_2 += 1\n",
    "\n",
    "    return contador_1/n, contador_2/n\n",
    "\n",
    "probabilidad = take_balls (1000)\n",
    "\n",
    "print (f'La probabilidad de sacar 3 rojas y 2 verdes es de {np.round(probabilidad[0]*100,2)}%')\n",
    "print (f'La probabilidad de sacar 5 de igual color es de {np.round(probabilidad[1]*100,2)}%')\n",
    "\n"
   ]
  }
 ],
 "metadata": {
  "kernelspec": {
   "display_name": "Python 3",
   "language": "python",
   "name": "python3"
  },
  "language_info": {
   "codemirror_mode": {
    "name": "ipython",
    "version": 3
   },
   "file_extension": ".py",
   "mimetype": "text/x-python",
   "name": "python",
   "nbconvert_exporter": "python",
   "pygments_lexer": "ipython3",
   "version": "3.11.4"
  }
 },
 "nbformat": 4,
 "nbformat_minor": 5
}
